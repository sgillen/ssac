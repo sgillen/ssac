{
 "cells": [
  {
   "cell_type": "markdown",
   "metadata": {},
   "source": [
    "# \"Needle Sac\"\n",
    "\n",
    "My normal SAC, but with an extra replay buffer. "
   ]
  },
  {
   "cell_type": "code",
   "execution_count": null,
   "metadata": {},
   "outputs": [],
   "source": [
    "# Do rollouts, and add to our experience buffers\n",
    "ep_obs1, ep_obs2, ep_acts, ep_rews, ep_done = do_rollout(env, model, env_steps)\n",
    "in_goal = torch.sum(torch.sqrt((ep_obs2[-goal_lookback:] - goal_state) ** 2), axis=1) < goal_thresh\n",
    "\n",
    "# Only add to the needle buffer if we consider it to have reached the goal state\n",
    "if in_goal.all():\n",
    "    needle_buf.store(ep_obs1, ep_obs2, ep_acts, ep_rews, ep_done)\n",
    "\n",
    "# Always add to our primary replay buffer\n",
    "replay_buf.store(ep_obs1, ep_obs2, ep_acts, ep_rews, ep_done)\n",
    "\n",
    "## ===========================================================\n",
    "\n",
    "# When it's time to train, sample from one of the two buffers with some probabiltiy\n",
    "p = np.random.random_sample(1)\n",
    "if p > needle_lookup_prob and needle_buf.size > 0:\n",
    "    replay_obs1, replay_obs2, replay_acts, replay_rews, replay_done = needle_buf.sample_batch(replay_batch_size)\n",
    "else:\n",
    "    replay_obs1, replay_obs2, replay_acts, replay_rews, replay_done = replay_buf.sample_batch(replay_batch_size)\n",
    "\n",
    "# do updates using replay_*"
   ]
  },
  {
   "cell_type": "code",
   "execution_count": 1,
   "metadata": {},
   "outputs": [
    {
     "name": "stderr",
     "output_type": "stream",
     "text": [
      "/home/sgillen/work/seagul/seagul/envs/__init__.py:47: UserWarning: Warning, pybullet envs not installed\n",
      "  warnings.warn(\"Warning, pybullet envs not installed\")\n"
     ]
    }
   ],
   "source": [
    "import gym\n",
    "import seagul.envs\n",
    "\n",
    "\n",
    "from seagul.rl.run_utils import load_workspace\n",
    "from seagul.plot import smooth_bounded_curve\n",
    "import matplotlib.pyplot as plt\n",
    "%matplotlib inline\n",
    "\n",
    "import numpy as np\n",
    "from numpy import pi\n",
    "#from simple_pid import PID\n",
    "\n",
    "import torch.utils.data\n",
    "from torch.multiprocessing import Pool\n",
    "from itertools import product\n",
    "import os"
   ]
  },
  {
   "cell_type": "code",
   "execution_count": 3,
   "metadata": {},
   "outputs": [],
   "source": [
    "jup_dir = \"/home/sgillen/work/\"\n",
    "\n",
    "def load_trials(trial_dir):\n",
    "    directory = jup_dir + trial_dir\n",
    "\n",
    "    ws_list = []\n",
    "    model_list = []\n",
    "    min_length = float('inf')\n",
    "    for entry in os.scandir(directory):\n",
    "                model, env, args, ws = load_workspace(entry.path)\n",
    "                \n",
    "                if len(ws[\"raw_rew_hist\"]) < min_length:\n",
    "                    min_length = len(ws[\"raw_rew_hist\"])\n",
    "                    \n",
    "                ws_list.append(ws)\n",
    "                model_list.append(model)\n",
    "\n",
    "    min_length = int(min_length)\n",
    "    rewards = np.zeros((min_length, len(ws_list)))\n",
    "    for i,ws in enumerate(ws_list):\n",
    "        rewards[:,i] = np.array(ws[\"raw_rew_hist\"][:min_length])\n",
    "\n",
    "\n",
    "\n",
    "    return ws_list, model_list, rewards\n",
    "\n",
    "\n",
    "def do_rollout(init_point = None):\n",
    "    env = gym.make(ws['env_name'], **ws['env_config'])\n",
    "\n",
    "    if init_point is not None:\n",
    "        obs = env.reset(init_point)\n",
    "    else:\n",
    "        obs = env.reset()\n",
    "\n",
    "    obs = torch.as_tensor(obs, dtype=torch.float32)\n",
    "\n",
    "    acts_list = []\n",
    "    obs1_list = []\n",
    "    obs2_list = []\n",
    "    rews_list = []\n",
    "    path_list = []\n",
    "\n",
    "    dtype = torch.float32\n",
    "    act_size = env.action_space.shape[0]\n",
    "    obs_size = env.observation_space.shape[0]\n",
    "\n",
    "    done = False\n",
    "    cur_step = 0\n",
    "\n",
    "    #obs = env.reset()\n",
    "    model.thresh = model.thresh_on\n",
    "\n",
    "    while not done:\n",
    "        obs1_list.append(obs)\n",
    "        path = model.sig(model.gate_fn(np.array(obs, dtype=np.float32))) > model.thresh\n",
    "\n",
    "        if path:\n",
    "            model.thresh = model.thresh_off\n",
    "            for _ in range(model.hold_count):\n",
    "                acts = model.balance_controller(obs).reshape(-1, model.num_acts)\n",
    "                obs, rew, done, _ = env.step(acts.numpy())\n",
    "                obs = torch.as_tensor(obs, dtype=dtype)\n",
    "        else:\n",
    "            model.thresh = model.thresh_on\n",
    "            # acts = model.swingup_controller(obs.reshape(-1, obs_size)).reshape(-1, model.num_acts)\n",
    "            acts, val,_,logp = model.step(obs.reshape(-1,obs_size))\n",
    "            acts = acts.reshape(-1, model.num_acts).detach()\n",
    "            for _ in range(model.hold_count):\n",
    "                obs, rew, done, _ = env.step(acts.numpy().reshape(-1))\n",
    "                obs = torch.as_tensor(obs, dtype=dtype)\n",
    "\n",
    "        acts_list.append(torch.as_tensor(acts.clone()))\n",
    "        rews_list.append(torch.as_tensor(rew, dtype=dtype))\n",
    "        path_list.append(path.clone())\n",
    "        obs2_list.append(obs)\n",
    "\n",
    "        cur_step += 1\n",
    "\n",
    "    ep_obs1 = torch.stack(obs1_list)\n",
    "    ep_acts = torch.stack(acts_list).reshape(-1, act_size)\n",
    "    ep_rews = torch.stack(rews_list).reshape(-1, 1)\n",
    "    ep_obs2 = torch.stack(obs2_list)\n",
    "    ep_path = torch.tensor(path_list).reshape(-1,1)\n",
    "\n",
    "    return ep_obs1, ep_acts, ep_rews,  ep_path"
   ]
  },
  {
   "cell_type": "markdown",
   "metadata": {},
   "source": [
    "# Needle sac can be made to work well\n",
    "\n",
    "## Observation: Bigger networks and longer runs improve performance (shocking...)\n",
    "\n",
    "## worth noting the one successful rllib trial from last week was a [256, 256] network, and trying to replicate those results with a [32,32] failed"
   ]
  },
  {
   "cell_type": "code",
   "execution_count": 10,
   "metadata": {},
   "outputs": [
    {
     "data": {
      "image/png": "[encoded data removed]",
      "text/plain": [
       "<Figure size 432x288 with 1 Axes>"
      ]
     },
     "metadata": {
      "needs_background": "light"
     },
     "output_type": "display_data"
    }
   ],
   "source": [
    "ws_list, model_list, rewards = load_trials(\"seagul/seagul/notebooks/switching/data_needle/50k_slow_longer\")\n",
    "fig, ax = smooth_bounded_curve(rewards, time_steps=[i*1000 for i in range(rewards.shape[0])])\n",
    "plt.ticklabel_format(style='sci', axis='x', scilimits=(0,0))\n",
    "ax.ticklabel_format(axis='x',style='sci')\n",
    "ax.set_title('Reward Curve')\n",
    "plt.show()"
   ]
  },
  {
   "cell_type": "code",
   "execution_count": 2,
   "metadata": {},
   "outputs": [
    {
     "ename": "NameError",
     "evalue": "name 'ws_list' is not defined",
     "output_type": "error",
     "traceback": [
      "\u001b[0;31m---------------------------------------------------------------------------\u001b[0m",
      "\u001b[0;31mNameError\u001b[0m                                 Traceback (most recent call last)",
      "\u001b[0;32m<ipython-input-2-0d61593f77be>\u001b[0m in \u001b[0;36m<module>\u001b[0;34m\u001b[0m\n\u001b[0;32m----> 1\u001b[0;31m \u001b[0mws\u001b[0m \u001b[0;34m=\u001b[0m \u001b[0mws_list\u001b[0m\u001b[0;34m[\u001b[0m\u001b[0;34m-\u001b[0m\u001b[0;36m1\u001b[0m\u001b[0;34m]\u001b[0m\u001b[0;34m;\u001b[0m\u001b[0;34m\u001b[0m\u001b[0;34m\u001b[0m\u001b[0m\n\u001b[0m\u001b[1;32m      2\u001b[0m \u001b[0mmodel\u001b[0m \u001b[0;34m=\u001b[0m \u001b[0mmodel_list\u001b[0m\u001b[0;34m[\u001b[0m\u001b[0;34m-\u001b[0m\u001b[0;36m1\u001b[0m\u001b[0;34m]\u001b[0m\u001b[0;34m\u001b[0m\u001b[0;34m\u001b[0m\u001b[0m\n\u001b[1;32m      3\u001b[0m \u001b[0;34m\u001b[0m\u001b[0m\n\u001b[1;32m      4\u001b[0m \u001b[0;34m\u001b[0m\u001b[0m\n\u001b[1;32m      5\u001b[0m \u001b[0;31m#%%\u001b[0m\u001b[0;34m\u001b[0m\u001b[0;34m\u001b[0m\u001b[0;34m\u001b[0m\u001b[0m\n",
      "\u001b[0;31mNameError\u001b[0m: name 'ws_list' is not defined"
     ]
    }
   ],
   "source": [
    "ws = ws_list[-1];\n",
    "model = model_list[-1]\n",
    "\n",
    "\n",
    "#%%\n",
    "obs_hist, act_hist, rew_hist, lqr_on = do_rollout()\n",
    "print(lqr_on)\n",
    "\n",
    "t = np.array([i*.2 for i in range(act_hist.shape[0])])\n",
    "\n",
    "plt.step(t, act_hist)\n",
    "plt.ylabel('time (seconds)')\n",
    "plt.ylabel('Torque (Nm)')\n",
    "plt.savefig('act_hist.pdf')\n",
    "plt.show(); plt.figure()\n",
    "\n",
    "\n",
    "plt.plot(t, obs_hist)\n",
    "plt.legend(['th1', 'th2', 'th1dot', 'th2dot'])\n",
    "plt.savefig('obs_hist.pdf')\n",
    "plt.show()"
   ]
  },
  {
   "cell_type": "markdown",
   "metadata": {},
   "source": [
    "# Again, reasonably robust to initial conditions\n",
    "\n",
    "### This time environment is reset normally, but with randomized initial *position* (initial velocity is always zero, learning degrades dramatically with nonzero starting velocities)"
   ]
  },
  {
   "cell_type": "code",
   "execution_count": null,
   "metadata": {},
   "outputs": [
    {
     "name": "stdout",
     "output_type": "stream",
     "text": [
      "14.10103726387024\n"
     ]
    }
   ],
   "source": [
    "\n",
    "pool = Pool()\n",
    "th1_min = 0; th1_max = 2 * pi; num_th1 = 41\n",
    "th1_vals = np.linspace(th1_min, th1_max, num_th1)\n",
    "\n",
    "th2_min = -pi; th2_max = pi; num_th2 = 41\n",
    "th2_vals = np.linspace(th2_min, th2_max, num_th2)\n",
    "\n",
    "th_results = np.zeros((th1_vals.size, th2_vals.size))\n",
    "th_lqr_results = np.zeros((th1_vals.size, th2_vals.size))\n",
    "rewards = np.zeros((th1_vals.size, th2_vals.size))\n",
    "\n",
    "end_point = torch.tensor([1.57079633, 0., 0., 0.])\n",
    "\n",
    "import time\n",
    "\n",
    "start = time.time()\n",
    "\n",
    "for i,res in enumerate(pool.imap(do_rollout, product(th1_vals, th2_vals, [0], [0]))):\n",
    "    obs_hist, action_hist, reward_hist, lqr_on = res\n",
    "    errs = torch.sum(abs(obs_hist[-10:] - end_point) , axis=1) < .2\n",
    "    th_results.flat[i] = errs.all()\n",
    "    th_lqr_results.flat[i] = lqr_on[-1]\n",
    "    rewards.flat[i] = sum(reward_hist)\n",
    "\n",
    "\n",
    "end = time.time()\n",
    "print(end - start)\n",
    "\n",
    "# Generate \"balance map\" at slice th = 0\n",
    "\n",
    "dth1_min = -10; dth1_max = 10; num_dth1 = 41\n",
    "dth1_vals = np.linspace(dth1_min, dth1_max, num_dth1)\n",
    "\n",
    "dth2_min = -10; dth2_max = 10; num_dth2 = 41\n",
    "dth2_vals = np.linspace(dth2_min, dth2_max, num_dth2)\n",
    "\n",
    "dth_results = np.zeros((dth1_vals.size, dth2_vals.size))\n",
    "dth_lqr_results = np.zeros((dth1_vals.size, dth2_vals.size))\n",
    "rewards = np.zeros((dth1_vals.size, dth2_vals.size))\n",
    "\n",
    "end_point = np.array([1.57079633, 0., 0., 0.])\n",
    "\n",
    "import time\n",
    "start = time.time()\n",
    "\n",
    "for i,res in enumerate(pool.imap(do_rollout, product([0],[0] , dth1_vals, dth2_vals))):\n",
    "    obs_hist, action_hist, reward_hist, lqr_on = res\n",
    "    errs = torch.sum(abs(obs_hist[-10:] - end_point), axis=1) < .2\n",
    "    dth_results.flat[i] = errs.all()\n",
    "    dth_lqr_results.flat[i] = lqr_on[-1]\n",
    "    rewards.flat[i] = sum(reward_hist)\n",
    "\n",
    "\n",
    "end = time.time()\n",
    "print(end - start)\n",
    "\n"
   ]
  },
  {
   "cell_type": "code",
   "execution_count": null,
   "metadata": {},
   "outputs": [],
   "source": [
    "fig, ax = plt.subplots(1, 1, figsize=(7, 7))\n",
    "weird_list = []\n",
    "for i in range(th1_vals.shape[0]):\n",
    "    for j in range(th2_vals.shape[0]):\n",
    "        if th_lqr_results[i, j] and th_results[i, j]:\n",
    "            ax.plot(th1_vals[i], th2_vals[j], 'o', color='k', alpha=1)\n",
    "\n",
    "        elif th_lqr_results[i, i] and not th_results[i, j]:\n",
    "            ax.plot(th1_vals[i], th2_vals[j], 'o', color='r', alpha=1)\n",
    "\n",
    "        elif th_results[i, j] and not th_lqr_results[i, j]:\n",
    "            ax.plot(th1_vals[i], th2_vals[j], 'o', color='b', alpha=1)\n",
    "            weird_list.append((i, j))\n",
    "\n",
    "ax.set_title('Balance map (whatever that means)')\n",
    "ax.set_xlabel('th1')\n",
    "ax.set_ylabel('th2')\n",
    "fig.savefig('th_map.pdf')\n",
    "plt.show()\n",
    "plt.figure()\n",
    "\n",
    "fig, ax = plt.subplots(1, 1, figsize=(7, 7))\n",
    "weird_list = []\n",
    "for i in range(dth1_vals.shape[0]):\n",
    "    for j in range(dth2_vals.shape[0]):\n",
    "        if dth_lqr_results[i, j] and dth_results[i, j]:\n",
    "            ax.plot(dth1_vals[i], dth2_vals[j], 'o', color='k', alpha=1)\n",
    "\n",
    "        elif dth_lqr_results[i, i] and not dth_results[i, j]:\n",
    "            ax.plot(dth1_vals[i], dth2_vals[j], 'o', color='r', alpha=1)\n",
    "\n",
    "        elif dth_results[i, j] and not dth_lqr_results[i, j]:\n",
    "            ax.plot(dth1_vals[i], dth2_vals[j], 'o', color='b', alpha=1)\n",
    "            weird_list.append((i, j))\n",
    "\n",
    "ax.set_title('Balance map (whatever that means)')\n",
    "ax.set_xlabel('dth1')\n",
    "ax.set_ylabel('dth2')\n",
    "fig.savefig('dth_map.pdf')\n",
    "plt.show()"
   ]
  },
  {
   "cell_type": "markdown",
   "metadata": {},
   "source": [
    "# Manual curriculum learning\n",
    "\n",
    "## starting with the policy trained above, train again but now with a stricter criteria for the goal state (must be in goal for 25 observations in the past)"
   ]
  },
  {
   "cell_type": "code",
   "execution_count": 3,
   "metadata": {},
   "outputs": [
    {
     "ename": "NameError",
     "evalue": "name 'plt' is not defined",
     "output_type": "error",
     "traceback": [
      "\u001b[0;31m---------------------------------------------------------------------------\u001b[0m",
      "\u001b[0;31mNameError\u001b[0m                                 Traceback (most recent call last)",
      "\u001b[0;32m<ipython-input-3-b80eb9d21fc2>\u001b[0m in \u001b[0;36m<module>\u001b[0;34m\u001b[0m\n\u001b[0;32m----> 1\u001b[0;31m \u001b[0mfig\u001b[0m\u001b[0;34m,\u001b[0m \u001b[0max\u001b[0m \u001b[0;34m=\u001b[0m \u001b[0mplt\u001b[0m\u001b[0;34m.\u001b[0m\u001b[0msubplots\u001b[0m\u001b[0;34m(\u001b[0m\u001b[0;36m1\u001b[0m\u001b[0;34m,\u001b[0m\u001b[0;36m2\u001b[0m\u001b[0;34m,\u001b[0m \u001b[0mfigsize\u001b[0m\u001b[0;34m=\u001b[0m\u001b[0;34m(\u001b[0m\u001b[0;36m16\u001b[0m\u001b[0;34m,\u001b[0m\u001b[0;36m6\u001b[0m\u001b[0;34m)\u001b[0m\u001b[0;34m)\u001b[0m\u001b[0;34m\u001b[0m\u001b[0;34m\u001b[0m\u001b[0m\n\u001b[0m\u001b[1;32m      2\u001b[0m \u001b[0;34m\u001b[0m\u001b[0m\n\u001b[1;32m      3\u001b[0m \u001b[0mws_list\u001b[0m\u001b[0;34m,\u001b[0m \u001b[0mmodel_list\u001b[0m\u001b[0;34m,\u001b[0m \u001b[0mrewards1\u001b[0m \u001b[0;34m=\u001b[0m \u001b[0mload_trials\u001b[0m\u001b[0;34m(\u001b[0m\u001b[0;34m\"seagul/seagul/notebooks/switching/data_needle/long_strong_big\"\u001b[0m\u001b[0;34m)\u001b[0m\u001b[0;34m\u001b[0m\u001b[0;34m\u001b[0m\u001b[0m\n\u001b[1;32m      4\u001b[0m \u001b[0;34m\u001b[0m\u001b[0m\n\u001b[1;32m      5\u001b[0m \u001b[0msmooth_bounded_curve\u001b[0m\u001b[0;34m(\u001b[0m\u001b[0mrewards1\u001b[0m\u001b[0;34m,\u001b[0m \u001b[0max\u001b[0m\u001b[0;34m=\u001b[0m\u001b[0max\u001b[0m\u001b[0;34m[\u001b[0m\u001b[0;36m0\u001b[0m\u001b[0;34m]\u001b[0m\u001b[0;34m)\u001b[0m\u001b[0;34m\u001b[0m\u001b[0;34m\u001b[0m\u001b[0m\n",
      "\u001b[0;31mNameError\u001b[0m: name 'plt' is not defined"
     ]
    }
   ],
   "source": [
    "fig, ax = plt.subplots(1,2, figsize=(16,6))\n",
    "\n",
    "ws_list, model_list, rewards1 = load_trials(\"seagul/seagul/notebooks/switching/data_needle/long_strong_big\")\n",
    "\n",
    "smooth_bounded_curve(rewards1, ax=ax[0])\n",
    "ax[0].set_ylim(-75, 100)\n",
    "ax[0].set_title('First round of training')\n",
    "\n",
    "ws_list, model_list, rewards2 = load_trials(\"seagul/seagul/notebooks/switching/data_needle/better\")\n",
    "smooth_bounded_curve(rewards2,ax = ax[1])\n",
    "ax[1].set_ylim(-75, 100)\n",
    "ax[1].set_title('Second round with stricter needle criteria')\n",
    "\n",
    "ws = ws_list[-1]; model = model_list[-1]\n",
    "\n",
    "fig, axc = smooth_bounded_curve(np.concatenate((rewards1,rewards2)))\n",
    "axc.set_title('combined reward curve')\n",
    "plt.show()"
   ]
  },
  {
   "cell_type": "markdown",
   "metadata": {},
   "source": [
    "# Despite the reward curve, new policy does seem more robust"
   ]
  },
  {
   "cell_type": "code",
   "execution_count": null,
   "metadata": {},
   "outputs": [],
   "source": [
    " # Generate \"balance map\" at slice dth = 0\n",
    "pool = Pool()\n",
    "th1_min = 0; th1_max = 2*pi; num_th1 = 41\n",
    "th1_vals = np.linspace(th1_min, th1_max, num_th1)\n",
    "\n",
    "th2_min = -pi; th2_max = pi; num_th2 = 41\n",
    "th2_vals = np.linspace(th2_min, th2_max, num_th2)\n",
    "\n",
    "err_list = []\n",
    "\n",
    "th_results = np.zeros((th1_vals.size, th2_vals.size))\n",
    "th_lqr_results = np.zeros((th1_vals.size, th2_vals.size))\n",
    "rewards = np.zeros((th1_vals.size, th2_vals.size))\n",
    "\n",
    "end_point = np.array([1.57079633, 0.        , 0.        , 0.        ])\n",
    "\n",
    "import time\n",
    "start = time.time()\n",
    "\n",
    "for i,res in enumerate(pool.imap(do_rollout, product(th1_vals, th2_vals, [0], [0]))):\n",
    "    obs_hist, action_hist, reward_hist, lqr_on = res\n",
    "    errs = np.sum(abs(obs_hist[-10:] - end_point) , axis=1)\n",
    "    err_list.append(errs)\n",
    "    #th_results.flat[i] = [errs]\n",
    "    th_lqr_results.flat[i] = lqr_on\n",
    "    rewards.flat[i] = sum(reward_hist)\n",
    "\n",
    "       \n",
    "end = time.time()\n",
    "print(end - start)"
   ]
  },
  {
   "cell_type": "code",
   "execution_count": 34,
   "metadata": {},
   "outputs": [
    {
     "name": "stdout",
     "output_type": "stream",
     "text": [
      "23.84462261199951\n"
     ]
    }
   ],
   "source": [
    "# Generate \"balance map\" at slice th = 0\n",
    "\n",
    "dth1_min = -10; dth1_max = 10; num_dth1 = 41\n",
    "dth1_vals = np.linspace(dth1_min, dth1_max, num_dth1)\n",
    "\n",
    "dth2_min = -30; dth2_max = 30; num_dth2 = 41\n",
    "dth2_vals = np.linspace(dth2_min, dth2_max, num_dth2)\n",
    "\n",
    "dth_results = np.zeros((dth1_vals.size, dth2_vals.size))\n",
    "dth_lqr_results = np.zeros((dth1_vals.size, dth2_vals.size))\n",
    "rewards = np.zeros((dth1_vals.size, dth2_vals.size))\n",
    "\n",
    "end_point = np.array([1.57079633, 0.        , 0.        , 0.        ])\n",
    "\n",
    "import time\n",
    "start = time.time()\n",
    "\n",
    "for i,res in enumerate(pool.imap(do_rollout, product([0],[0] , dth1_vals, dth2_vals))):\n",
    "    obs_hist, action_hist, reward_hist, lqr_on = res\n",
    "    errs = np.sum(abs(obs_hist[-10:] - end_point) , axis=1) < 1.5 \n",
    "    dth_results.flat[i] = errs.all()\n",
    "    dth_lqr_results.flat[i] = lqr_on\n",
    "    rewards.flat[i] = sum(reward_hist)\n",
    "\n",
    "       \n",
    "end = time.time()\n",
    "print(end - start)"
   ]
  },
  {
   "cell_type": "code",
   "execution_count": 35,
   "metadata": {},
   "outputs": [
    {
     "data": {
      "image/png": "[encoded data removed]",
      "text/plain": [
       "<Figure size 1008x504 with 2 Axes>"
      ]
     },
     "metadata": {
      "needs_background": "light"
     },
     "output_type": "display_data"
    }
   ],
   "source": [
    "fig, ax = plt.subplots(1,2, figsize=(14,7))\n",
    "\n",
    "weird_list = []\n",
    "for i in range(th1_vals.shape[0]):\n",
    "    for j in range(th2_vals.shape[0]):\n",
    "        if th_lqr_results[i,j] and th_results[i,j]:\n",
    "            ax[0].plot(th1_vals[i], th2_vals[j], 'o', color = 'k', alpha=1)\n",
    "            \n",
    "        elif th_lqr_results[i,i] and not th_results[i,j]:            \n",
    "            ax[0].plot(th1_vals[i], th2_vals[j], 'o', color = 'r', alpha=1)\n",
    "            \n",
    "        elif th_results[i,j] and not th_lqr_results[i,j]:\n",
    "            ax[0].plot(th1_vals[i], th2_vals[j], 'o', color = 'b', alpha=1)\n",
    "            weird_list.append((i,j))\n",
    "            \n",
    "\n",
    "ax[0].set_title('256 network, balance map')\n",
    "ax[0].set_xlabel('th1')\n",
    "ax[0].set_ylabel('th2') \n",
    "            \n",
    "weird_list = []\n",
    "for i in range(dth1_vals.shape[0]):\n",
    "    for j in range(dth2_vals.shape[0]):\n",
    "        if dth_lqr_results[i,j] and dth_results[i,j]:\n",
    "            ax[1].plot(dth1_vals[i], dth2_vals[j], 'o', color = 'k', alpha=1)\n",
    "            \n",
    "        elif dth_lqr_results[i,i] and not dth_results[i,j]:            \n",
    "           ax[1].plot(dth1_vals[i], dth2_vals[j], 'o', color = 'r', alpha=1)\n",
    "            \n",
    "        elif dth_results[i,j] and not dth_lqr_results[i,j]:\n",
    "           ax[1].plot(dth1_vals[i], dth2_vals[j], 'o', color = 'b', alpha=1)\n",
    "           weird_list.append((i,j))\n",
    "\n",
    "            \n",
    "ax[1].set_title('256 network, balance map')\n",
    "ax[1].set_xlabel('dth1')\n",
    "ax[1].set_ylabel('dth2')         \n",
    "plt.show()"
   ]
  },
  {
   "cell_type": "markdown",
   "metadata": {},
   "source": [
    "# Need to figure out what to focus on for this week\n",
    "\n",
    "## Needs\n",
    "- Finalize the policy to put in the paper\n",
    "- Do some analysis (what exactly?)\n",
    "- Rewrite paper to reflect changes (probably rewrite parts of intro too)\n",
    "- Regenerate plots \n",
    "- Clean up / publish code\n",
    "- Redo comparisons, add d4pg **Problem:** No official implementations available\n",
    "- Add online gate learning?? (if no, signifigant rewrite of intro / related work need)\n",
    "\n",
    "## Wants\n",
    "- Tune hyper params for algo comparisons, if not then use params tuned for Acrobot-v1\n",
    "- Get cartpole working with the same trick\n",
    "- Curriculum learning / adaptive alpha\n",
    "- Learn gate controller\n",
    "- Can we say/prove anything about this algorithm\n",
    "\n",
    "## Future Work\n",
    "- Statistical information about where the system goes with random actions (AKA why is the acrobot problem so hard?)\n",
    "- Cartpole n+1 n+2\n",
    "- Replicate and beat results from deep mind paper"
   ]
  },
  {
   "cell_type": "markdown",
   "metadata": {},
   "source": []
  },
  {
   "cell_type": "markdown",
   "metadata": {},
   "source": [
    "# Criticisms \n",
    "\n",
    "- To many params specifically tuned to this problem, no suprise it works well\n",
    "- Euler Integration is lame and/or \"cheating\" \n",
    "- No proofs!\n",
    "- Too much offline learning (which relies on reseting the environment in arbitrary states) which can't be replicated on a physical system\n",
    "- Can't compare performance to d4pg, since params tuned for all problems in dm_control"
   ]
  },
  {
   "cell_type": "code",
   "execution_count": null,
   "metadata": {},
   "outputs": [],
   "source": []
  }
 ],
 "metadata": {
  "kernelspec": {
   "display_name": "Base (3.7)",
   "language": "python",
   "name": "base"
  },
  "language_info": {
   "codemirror_mode": {
    "name": "ipython",
    "version": 3
   },
   "file_extension": ".py",
   "mimetype": "text/x-python",
   "name": "python",
   "nbconvert_exporter": "python",
   "pygments_lexer": "ipython3",
   "version": "3.7.4"
  },
  "pycharm": {
   "stem_cell": {
    "cell_type": "raw",
    "metadata": {
     "collapsed": false
    },
    "source": []
   }
  }
 },
 "nbformat": 4,
 "nbformat_minor": 4
}
